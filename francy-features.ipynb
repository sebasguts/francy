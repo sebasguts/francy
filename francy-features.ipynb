{
 "cells": [
  {
   "cell_type": "markdown",
   "metadata": {},
   "source": [
    "# Francy Package"
   ]
  },
  {
   "cell_type": "code",
   "execution_count": 1,
   "metadata": {},
   "outputs": [
    {
     "name": "stdout",
     "output_type": "stream",
     "text": [
      "\u0003#I  \u0003\u0003equal requirements in multiple declaratio\u0003ns for operation `JUPYTER_ViewString'\n",
      "\u0003\u0003\n",
      "\u0003\u0003#I  \u0003\u0003method installed for Add matches more tha\u0003n one declaration\u0003\u0003\n",
      "\u0003\u0003#I  \u0003\u0003method installed for Remove matches more \u0003than one declaration\u0003\u0003\n",
      "\u0003"
     ]
    },
    {
     "data": {
      "text/plain": [
       "true"
      ]
     },
     "execution_count": 1,
     "metadata": {},
     "output_type": "execute_result"
    }
   ],
   "source": [
    "LoadPackage(\"francy\");"
   ]
  },
  {
   "cell_type": "markdown",
   "metadata": {},
   "source": [
    "# Draw\n",
    "\n",
    "Draw is the main function of Francy. It renders a canvas and all the child objects in Jupyter environment or any other environment which connects to GAP somehow, e.g. a webssh console with websockets, etc.\n",
    "\n",
    "### DrawSplash\n",
    "\n",
    "DrawSplash uses Draw to generate the data and creates a Static HTML Page that can be embedded or viewed in any browser, in \"offline\" mode.\n",
    "\n",
    "**NOTE: When using this, there will be no interaction back to gap as there is no kernel orchestrating the communication between francy and gap!**"
   ]
  },
  {
   "cell_type": "markdown",
   "metadata": {},
   "source": [
    "# Canvas\n",
    "\n",
    "Canvas are the base where graphics are produced. A Canvas is constituted by a Main Menu and an area where the graphics are produced.\n",
    "\n",
    "## How to create a Canvas?\n",
    "\n",
    "It is possible to set some default configurations for the canvas:\n",
    "\n",
    "```gap\n",
    "gap> defaults := CanvasDefaults;\n",
    "gap> Sanitize(defaults);\n",
    "rec( height := 600, width := 800, zoomToFit := true )\n",
    "gap> SetWidth(defaults, 830);\n",
    "gap> SetHeight(defaults, 630);\n",
    "gap> SetZoomToFit(defaults, false);\n",
    "gap> canvas := Canvas(\"Example Canvas\", defaults);\n",
    "\n",
    "```\n",
    "\n",
    "Or it can be done after, by:\n",
    "\n",
    "```gap\n",
    "gap> canvas := Canvas(\"Example Canvas\");\n",
    "gap> SetWidth(canvas, 850);\n",
    "gap> SetHeight(canvas, 650);\n",
    "gap> SetZoomToFit(canvas, true);\n",
    "```"
   ]
  },
  {
   "cell_type": "code",
   "execution_count": 23,
   "metadata": {},
   "outputs": [
    {
     "data": {
      "text/plain": [
       "<IsFrancyObject/IsCanvas>"
      ]
     },
     "execution_count": 19,
     "metadata": {},
     "output_type": "execute_result"
    },
    {
     "data": {
      "application/vnd.francy+json": "{\"version\" : \"0.5.0\",\"mime\" : \"application\\/vnd.francy+json\",\"canvas\" : {\"width\" : 850,\"height\" : 100,\"id\" : \"F5\",\"title\" : \"Example Canvas\",\"zoomToFit\" : false,\"menus\" : {},\"graph\" : {},\"chart\" : {},\"messages\" : {}}}"
     },
     "execution_count": 23,
     "metadata": {},
     "output_type": "execute_result"
    }
   ],
   "source": [
    "canvas := Canvas(\"Example Canvas\");\n",
    "\n",
    "SetWidth(canvas, 850);\n",
    "SetHeight(canvas, 100);\n",
    "SetZoomToFit(canvas, false);\n",
    "\n",
    "Draw(canvas);"
   ]
  },
  {
   "cell_type": "markdown",
   "metadata": {},
   "source": [
    "# Menus\n",
    "\n",
    "Menus can be added to the Canvas, where they will be added to the Main Menu on the Top, or to Shapes, ahere they will appear as Context Menu - Mouse right click.\n",
    "\n",
    "The Main Menu has by default a Menu entry called Francy with 3 Sub Menus: Zoom to Fit, Save to PNG and About.\n",
    "\n",
    "*NOTE: Save to PNG is broken at the moment due to some bug in the library used, when executed on Jupyter!*\n",
    "\n",
    "# Callbacks\n",
    "\n",
    "A Callback is a function that is triggered in GAP and can be added to Menus and/or Shapes.\n",
    "\n",
    "## How to create a Callback?\n",
    "\n",
    "Callbacks can be created in many different ways, and it will depend on what you want to do.\n",
    "\n",
    "Callbacks are triggered with mouse events. Available TriggerTypes are:\n",
    "\n",
    "* TriggerType.DOUBLE_CLICK\n",
    "* TriggerType.RIGHT_CLICK\n",
    "* TriggerType.CLICK\n",
    "\n",
    "*NOTE: No matter what you choose for TriggerType on a callback that is used on a Menu will always default to TriggerType.CLICK!*\n",
    "\n",
    "Calling a Simple function that doesn't require any argument is the simplest form:\n",
    "\n",
    "```gap\n",
    "gap> MyFunction := function()\n",
    ">    # Must return allways! This is because GAP CallFuncList is used and requires it\n",
    ">    return;\n",
    "> end;\n",
    "gap> callback := Callback(MyFunction); # defaults to CLICK event\n",
    "gap> callback := Callback(TriggerType.DOUBLE_CLICK, MyFunction);\n",
    "```\n",
    "\n",
    "Calling a Function with a \"known\" argument is also simple:\n",
    "\n",
    "```gap\n",
    "gap> canvas := Canvas(\"Callbacks in Action!\");\n",
    "gap> MyFunction := function(someKnownArg)\n",
    ">    # Do some crazy computation\n",
    ">    # Redraw\n",
    ">  return Draw(canvas);\n",
    "> end;\n",
    "gap> something := NumericalSemigroup(10,11,19);\n",
    "gap> callback := Callback(MyFunction, [something]);\n",
    "```\n",
    "\n",
    "What if we want the user to give some input? Well, this is the case you have \"required\" arguments:\n",
    "\n",
    "```gap\n",
    "gap> canvas := Canvas(\"Callbacks in Action!\");\n",
    "gap> MyFunction := function(someKnownArg, someUserInputArg)\n",
    ">    # Do Some Crazy computation\n",
    ">    # Redraw\n",
    ">    return Draw(canvas);\n",
    "> end;\n",
    "gap> something := NumericalSemigroup(10,11,19);\n",
    "gap> callback := Callback(MyFunction, [something]);\n",
    "gap> arg := RequiredArg(ArgType.NUMBER, \"Give me a Prime?\");\n",
    "gap> Add(callback, arg);\n",
    "```\n",
    "\n",
    "Required Arguments type defines the data type. Available ArgTypes are:\n",
    "\n",
    "* ArgType.BOOLEAN\n",
    "* ArgType.STRING\n",
    "* ArgType.NUMBER\n",
    "\n",
    "\n",
    "## How to create a Menu?\n",
    "\n",
    "Menus can include a Callback or not. Menus without callback are useful for holding Submenus.\n",
    "\n",
    "```gap\n",
    "gap> callback := Callback(MyCallbackFunction);\n",
    "gap> menu := Menu(\"Example Holder Menu\");\n",
    "gap> submenu := Menu(\"I'm a Submenu!\", callback);\n",
    "gap> Add(menu, submenu);\n",
    "gap> Add(canvas, menu);\n",
    "```\n",
    "\n",
    "Or as a top Menu:\n",
    "\n",
    "```gap\n",
    "gap> callback := Callback(MyCallbackFunction);\n",
    "gap> menu := Menu(\"Menu\", callback);\n",
    "gap> Add(canvas, menu);\n",
    "```\n",
    "\n",
    "The same menu objects can be used in Shapes:\n",
    "* NOTE: Submenus are flatenned in context menus!*\n",
    "\n",
    "```gap\n",
    "gap> shape := Shape(SpaheType.CIRCLE); # will go throughout shapes and graphs later\n",
    "gap> Add(shape, menu);\n",
    "```"
   ]
  },
  {
   "cell_type": "code",
   "execution_count": 40,
   "metadata": {},
   "outputs": [
    {
     "data": {
      "text/plain": [
       "<IsFrancyObject/IsCanvas>"
      ]
     },
     "execution_count": 24,
     "metadata": {},
     "output_type": "execute_result"
    },
    {
     "data": {
      "text/plain": [
       "<IsFrancyObject/IsFrancyGraph>"
      ]
     },
     "execution_count": 26,
     "metadata": {},
     "output_type": "execute_result"
    },
    {
     "data": {
      "text/plain": [
       "<IsFrancyObject/IsShape>"
      ]
     },
     "execution_count": 27,
     "metadata": {},
     "output_type": "execute_result"
    },
    {
     "data": {
      "text/plain": [
       "function( name ) ... end"
      ]
     },
     "execution_count": 30,
     "metadata": {},
     "output_type": "execute_result"
    },
    {
     "data": {
      "text/plain": [
       "<IsFrancyObject/IsCallback>"
      ]
     },
     "execution_count": 31,
     "metadata": {},
     "output_type": "execute_result"
    },
    {
     "data": {
      "text/plain": [
       "<IsFrancyObject/IsCallback>"
      ]
     },
     "execution_count": 32,
     "metadata": {},
     "output_type": "execute_result"
    },
    {
     "data": {
      "text/plain": [
       "<IsFrancyObject/IsMenu>"
      ]
     },
     "execution_count": 34,
     "metadata": {},
     "output_type": "execute_result"
    },
    {
     "data": {
      "text/plain": [
       "<IsFrancyObject/IsMenu>"
      ]
     },
     "execution_count": 35,
     "metadata": {},
     "output_type": "execute_result"
    },
    {
     "data": {
      "application/vnd.francy+json": "{\"version\" : \"0.5.0\",\"mime\" : \"application\\/vnd.francy+json\",\"canvas\" : {\"width\" : 800,\"height\" : 100,\"id\" : \"F6\",\"title\" : \"Callbacks in action\",\"zoomToFit\" : true,\"menus\" : {\"F12\" : {\"id\" : \"F12\",\"title\" : \"Hello Menu Action\",\"callback\" : {\"func\" : \"HelloWorld\",\"id\" : \"F9\",\"trigger\" : \"click\",\"knownArgs\" : [],\"requiredArgs\" : {\"F10\" : {\"type\" : \"text\",\"id\" : \"F10\",\"title\" : \"Your Name?\",\"value\" : \"\"}}},\"menus\" : {}},\"F11\" : {\"id\" : \"F11\",\"title\" : \"Example Menu Holder\",\"callback\" : {},\"menus\" : {\"F12\" : {\"id\" : \"F12\",\"title\" : \"Hello Menu Action\",\"callback\" : {\"func\" : \"HelloWorld\",\"id\" : \"F9\",\"trigger\" : \"click\",\"knownArgs\" : [],\"requiredArgs\" : {\"F10\" : {\"type\" : \"text\",\"id\" : \"F10\",\"title\" : \"Your Name?\",\"value\" : \"\"}}},\"menus\" : {}}}}},\"graph\" : {\"type\" : \"hasse\",\"id\" : \"F7\",\"simulation\" : true,\"collapsed\" : true,\"drag\" : false,\"showNeighbours\" : false,\"nodes\" : {\"F8\" : {\"x\" : 0,\"y\" : 0,\"type\" : \"circle\",\"size\" : 10,\"id\" : \"F8\",\"title\" : \"\",\"layer\" : 0,\"highlight\" : true,\"parent\" : \"\",\"menus\" : {\"F12\" : {\"id\" : \"F12\",\"title\" : \"Hello Menu Action\",\"callback\" : {\"func\" : \"HelloWorld\",\"id\" : \"F9\",\"trigger\" : \"click\",\"knownArgs\" : [],\"requiredArgs\" : {\"F10\" : {\"type\" : \"text\",\"id\" : \"F10\",\"title\" : \"Your Name?\",\"value\" : \"\"}}},\"menus\" : {}}},\"messages\" : {},\"callbacks\" : {}}},\"links\" : {}},\"messages\" : {}}}"
     },
     "execution_count": 40,
     "metadata": {},
     "output_type": "execute_result"
    }
   ],
   "source": [
    "canvas := Canvas(\"Callbacks in action\");\n",
    "SetHeight(canvas, 100);\n",
    "\n",
    "graph := Graph(GraphType.HASSE); # will go throughout graphs later\n",
    "shape := Shape(ShapeType.CIRCLE); # will go throughout shapes later\n",
    "Add(graph, shape);\n",
    "Add(canvas, graph);\n",
    "\n",
    "HelloWorld := function(name)\n",
    "    Add(canvas, FrancyMessage(Concatenation(\"Hello, \", name))); #  will go throughout messages later\n",
    "    return Draw(canvas);\n",
    "end;\n",
    "\n",
    "callback1 := Callback(HelloWorld);\n",
    "arg1 := RequiredArg(ArgType.STRING, \"Your Name?\");\n",
    "Add(callback1, arg1);\n",
    "\n",
    "menu := Menu(\"Example Menu Holder\");\n",
    "menu1 := Menu( \"Hello Menu Action\", callback1 );\n",
    "Add(menu, menu1);\n",
    "\n",
    "Add(canvas, menu);\n",
    "Add(canvas, menu1);\n",
    "Add(shape, menu1);\n",
    "\n",
    "Draw(canvas);"
   ]
  },
  {
   "cell_type": "code",
   "execution_count": 54,
   "metadata": {},
   "outputs": [
    {
     "data": {
      "text/plain": [
       "<IsFrancyObject/IsCanvas>"
      ]
     },
     "execution_count": 41,
     "metadata": {},
     "output_type": "execute_result"
    },
    {
     "data": {
      "text/plain": [
       "<IsFrancyObject/IsFrancyGraph>"
      ]
     },
     "execution_count": 43,
     "metadata": {},
     "output_type": "execute_result"
    },
    {
     "data": {
      "text/plain": [
       "<IsFrancyObject/IsShape>"
      ]
     },
     "execution_count": 44,
     "metadata": {},
     "output_type": "execute_result"
    },
    {
     "data": {
      "text/plain": [
       "<IsFrancyObject/IsShape>"
      ]
     },
     "execution_count": 45,
     "metadata": {},
     "output_type": "execute_result"
    },
    {
     "data": {
      "text/plain": [
       "function( node ) ... end"
      ]
     },
     "execution_count": 48,
     "metadata": {},
     "output_type": "execute_result"
    },
    {
     "data": {
      "text/plain": [
       "<IsFrancyObject/IsLink>"
      ]
     },
     "execution_count": 51,
     "metadata": {},
     "output_type": "execute_result"
    },
    {
     "data": {
      "application/vnd.francy+json": "{\"version\" : \"0.5.0\",\"mime\" : \"application\\/vnd.francy+json\",\"canvas\" : {\"width\" : 800,\"height\" : 100,\"id\" : \"F13\",\"title\" : \"Example Callbacks with Known Arguments\",\"zoomToFit\" : true,\"menus\" : {},\"graph\" : {\"type\" : \"directed\",\"id\" : \"F14\",\"simulation\" : true,\"collapsed\" : true,\"drag\" : false,\"showNeighbours\" : false,\"nodes\" : {\"F15\" : {\"x\" : 0,\"y\" : 0,\"type\" : \"circle\",\"size\" : 10,\"id\" : \"F15\",\"title\" : \"Click Me\",\"layer\" : 0,\"highlight\" : true,\"parent\" : \"\",\"menus\" : {},\"messages\" : {},\"callbacks\" : {\"F17\" : {\"func\" : \"WhichNode\",\"id\" : \"F17\",\"trigger\" : \"click\",\"knownArgs\" : [\"<object>\"],\"requiredArgs\" : {}}}},\"F16\" : {\"x\" : 0,\"y\" : 0,\"type\" : \"circle\",\"size\" : 10,\"id\" : \"F16\",\"title\" : \"Click Me\",\"layer\" : 0,\"highlight\" : true,\"parent\" : \"\",\"menus\" : {},\"messages\" : {},\"callbacks\" : {\"F18\" : {\"func\" : \"WhichNode\",\"id\" : \"F18\",\"trigger\" : \"click\",\"knownArgs\" : [\"<object>\"],\"requiredArgs\" : {}}}}},\"links\" : {\"F19\" : {\"source\" : \"F15\",\"id\" : \"F19\",\"target\" : \"F16\"}}},\"messages\" : {}}}"
     },
     "execution_count": 54,
     "metadata": {},
     "output_type": "execute_result"
    }
   ],
   "source": [
    "canvas := Canvas(\"Example Callbacks with Known Arguments\");\n",
    "SetHeight(canvas, 100);\n",
    "\n",
    "graph := Graph(GraphType.DIRECTED);\n",
    "\n",
    "shape := Shape(ShapeType.CIRCLE, \"Click Me\");\n",
    "shape1 := Shape(ShapeType.CIRCLE, \"Click Me\");\n",
    "Add(graph, shape);\n",
    "Add(graph, shape1);\n",
    "\n",
    "WhichNode := function(node)\n",
    "    Add(canvas, FrancyMessage(node!.title));\n",
    "    return Draw(canvas);\n",
    "end;\n",
    "\n",
    "Add(shape, Callback(WhichNode, [shape])); # similar to Add(shape, Callback(TriggerEvent.CLICK, WhichNode, [shape]));\n",
    "Add(shape1, Callback(WhichNode, [shape1])); # similar to Add(shape1, Callback(TriggerEvent.CLICK, WhichNode, [shape1]));\n",
    "\n",
    "link := Link(shape, shape1);\n",
    "Add(graph, link);\n",
    "\n",
    "Add(canvas, graph);\n",
    "\n",
    "Draw(canvas);"
   ]
  },
  {
   "cell_type": "markdown",
   "metadata": {},
   "source": [
    "# Messages\n",
    "\n",
    "Messages are usefull for providing information to the user. Messages can be added to the Canvas and/or to Shapes.\n",
    "\n",
    "Messages added to a Canvas are displayed as messages using colors to differentiate types, they appear on the top left corner and can be dismissed by clicking on them.\n",
    "\n",
    "Messages added to a Shape are displayed as tooltips and their types are not taken in account, they appear when the user moves the mouse hover the Shape.\n",
    "\n",
    "## How to create Messages?\n",
    "\n",
    "Once again, creating messages is fairly simple and depends on the purpose of the message.\n",
    "\n",
    "Messages can be of the following types:\n",
    "\n",
    "* FrancyMessageType.INFO\n",
    "* FrancyMessageType.ERROR\n",
    "* FrancyMessageType.SUCCESS\n",
    "* FrancyMessageType.WARNING\n",
    "* FrancyMessageType.DEFAULT\n",
    "\n",
    "The simplest Message with the default type would be:\n",
    "\n",
    "```gap\n",
    "gap> FrancyMessage(\"Hello\", \"World\"); # title and text\n",
    "gap> FrancyMessage(\"Hello\"); # without title\n",
    "```\n",
    "\n",
    "Messages with a custom type:\n",
    "\n",
    "```gap\n",
    "gap> FrancyMessage(FrancyMessageType.INFO, \"Hello\", \"World\"); # title and text\n",
    "gap> FrancyMessage(FrancyMessageType.INFO, \"Hello\"); # without title\n",
    "```"
   ]
  },
  {
   "cell_type": "code",
   "execution_count": 66,
   "metadata": {},
   "outputs": [
    {
     "data": {
      "text/plain": [
       "<IsFrancyObject/IsCanvas>"
      ]
     },
     "execution_count": 55,
     "metadata": {},
     "output_type": "execute_result"
    },
    {
     "data": {
      "text/plain": [
       "<IsFrancyObject/IsFrancyGraph>"
      ]
     },
     "execution_count": 57,
     "metadata": {},
     "output_type": "execute_result"
    },
    {
     "data": {
      "text/plain": [
       "<IsFrancyObject/IsShape>"
      ]
     },
     "execution_count": 59,
     "metadata": {},
     "output_type": "execute_result"
    },
    {
     "data": {
      "text/plain": [
       "<IsFrancyObject/IsShape>"
      ]
     },
     "execution_count": 60,
     "metadata": {},
     "output_type": "execute_result"
    },
    {
     "data": {
      "text/plain": [
       "function( c, node ) ... end"
      ]
     },
     "execution_count": 63,
     "metadata": {},
     "output_type": "execute_result"
    },
    {
     "data": {
      "application/vnd.francy+json": "{\"version\" : \"0.5.0\",\"mime\" : \"application\\/vnd.francy+json\",\"canvas\" : {\"width\" : 800,\"height\" : 100,\"id\" : \"F20\",\"title\" : \"Example Callbacks with Known Arguments\",\"zoomToFit\" : true,\"menus\" : {},\"graph\" : {\"type\" : \"directed\",\"id\" : \"F21\",\"simulation\" : true,\"collapsed\" : true,\"drag\" : false,\"showNeighbours\" : false,\"nodes\" : {\"F22\" : {\"x\" : 0,\"y\" : 0,\"type\" : \"circle\",\"size\" : 10,\"id\" : \"F22\",\"title\" : \"Click Me\",\"layer\" : 0,\"highlight\" : true,\"parent\" : \"\",\"menus\" : {},\"messages\" : {},\"callbacks\" : {\"F24\" : {\"func\" : \"WhichNode\",\"id\" : \"F24\",\"trigger\" : \"click\",\"knownArgs\" : [\"<object>\",\"<object>\"],\"requiredArgs\" : {}}}},\"F23\" : {\"x\" : 0,\"y\" : 0,\"type\" : \"circle\",\"size\" : 10,\"id\" : \"F23\",\"title\" : \"Click Me\",\"layer\" : 0,\"highlight\" : true,\"parent\" : \"\",\"menus\" : {},\"messages\" : {},\"callbacks\" : {\"F25\" : {\"func\" : \"WhichNode\",\"id\" : \"F25\",\"trigger\" : \"click\",\"knownArgs\" : [\"<object>\",\"<object>\"],\"requiredArgs\" : {}}}}},\"links\" : {}},\"messages\" : {}}}"
     },
     "execution_count": 66,
     "metadata": {},
     "output_type": "execute_result"
    }
   ],
   "source": [
    "canvas := Canvas(\"Example Callbacks with Known Arguments\");\n",
    "SetHeight(canvas, 100);\n",
    "\n",
    "graph := Graph(GraphType.DIRECTED);\n",
    "Add(canvas, graph);\n",
    "\n",
    "shape := Shape(ShapeType.CIRCLE, \"Click Me\");\n",
    "shape1 := Shape(ShapeType.CIRCLE, \"Click Me\");\n",
    "Add(graph, shape);\n",
    "Add(graph, shape1);\n",
    "\n",
    "WhichNode := function(c, node)\n",
    "    Add(c, FrancyMessage(String(node!.title)));\n",
    "    return Draw(c);\n",
    "end;\n",
    "\n",
    "Add(shape, Callback(WhichNode, [canvas, shape])); # similar to Add(shape, Callback(TriggerEvent.CLICK, WhichNode, [shape]));\n",
    "Add(shape1, Callback(WhichNode, [canvas, shape1])); # similar to Add(shape1, Callback(TriggerEvent.CLICK, WhichNode, [shape1]));\n",
    "\n",
    "Draw(canvas);"
   ]
  },
  {
   "cell_type": "code",
   "execution_count": 83,
   "metadata": {},
   "outputs": [
    {
     "data": {
      "text/plain": [
       "<IsFrancyObject/IsCanvas>"
      ]
     },
     "execution_count": 67,
     "metadata": {},
     "output_type": "execute_result"
    },
    {
     "data": {
      "text/plain": [
       "<IsFrancyObject/IsFrancyGraph>"
      ]
     },
     "execution_count": 69,
     "metadata": {},
     "output_type": "execute_result"
    },
    {
     "data": {
      "text/plain": [
       "<IsFrancyObject/IsShape>"
      ]
     },
     "execution_count": 70,
     "metadata": {},
     "output_type": "execute_result"
    },
    {
     "data": {
      "application/vnd.francy+json": "{\"version\" : \"0.5.0\",\"mime\" : \"application\\/vnd.francy+json\",\"canvas\" : {\"width\" : 800,\"height\" : 100,\"id\" : \"F26\",\"title\" : \"Example Canvas \\/ Shape with Messages\",\"zoomToFit\" : true,\"menus\" : {},\"graph\" : {\"type\" : \"hasse\",\"id\" : \"F27\",\"simulation\" : true,\"collapsed\" : true,\"drag\" : false,\"showNeighbours\" : false,\"nodes\" : {\"F28\" : {\"x\" : 0,\"y\" : 0,\"type\" : \"circle\",\"size\" : 10,\"id\" : \"F28\",\"title\" : \"\",\"layer\" : 0,\"highlight\" : true,\"parent\" : \"\",\"menus\" : {},\"messages\" : {\"F30\" : {\"type\" : \"info\",\"id\" : \"F30\",\"text\" : \"Hello\",\"title\" : \"\"},\"F32\" : {\"type\" : \"error\",\"id\" : \"F32\",\"text\" : \"Hello\",\"title\" : \"Oops\"},\"F34\" : {\"type\" : \"warning\",\"id\" : \"F34\",\"text\" : \"Hello\",\"title\" : \"\"},\"F36\" : {\"type\" : \"success\",\"id\" : \"F36\",\"text\" : \"Hello\",\"title\" : \"\"},\"F38\" : {\"type\" : \"default\",\"id\" : \"F38\",\"text\" : \"World\",\"title\" : \"Hello\"}},\"callbacks\" : {}}},\"links\" : {}},\"messages\" : {\"F29\" : {\"type\" : \"info\",\"id\" : \"F29\",\"text\" : \"Hello\",\"title\" : \"\"},\"F31\" : {\"type\" : \"error\",\"id\" : \"F31\",\"text\" : \"Hello\",\"title\" : \"Oops\"},\"F33\" : {\"type\" : \"warning\",\"id\" : \"F33\",\"text\" : \"Hello\",\"title\" : \"\"},\"F35\" : {\"type\" : \"success\",\"id\" : \"F35\",\"text\" : \"Hello\",\"title\" : \"\"},\"F37\" : {\"type\" : \"default\",\"id\" : \"F37\",\"text\" : \"World\",\"title\" : \"Hello\"}}}}"
     },
     "execution_count": 83,
     "metadata": {},
     "output_type": "execute_result"
    }
   ],
   "source": [
    "canvas := Canvas(\"Example Canvas / Shape with Messages\");\n",
    "SetHeight(canvas, 100);\n",
    "\n",
    "graph := Graph(GraphType.HASSE); # will go throughout graphs later\n",
    "shape := Shape(ShapeType.CIRCLE); # will go throughout shapes later\n",
    "Add(graph, shape);\n",
    "Add(canvas, graph);\n",
    "\n",
    "Add(canvas, FrancyMessage(FrancyMessageType.INFO, \"Hello\"));\n",
    "Add(shape, FrancyMessage(FrancyMessageType.INFO, \"Hello\"));\n",
    "Add(canvas, FrancyMessage(FrancyMessageType.ERROR, \"Oops\", \"Hello\"));\n",
    "Add(shape, FrancyMessage(FrancyMessageType.ERROR, \"Oops\", \"Hello\"));\n",
    "Add(canvas, FrancyMessage(FrancyMessageType.WARNING, \"Hello\"));\n",
    "Add(shape, FrancyMessage(FrancyMessageType.WARNING, \"Hello\"));\n",
    "Add(canvas, FrancyMessage(FrancyMessageType.SUCCESS, \"Hello\"));\n",
    "Add(shape, FrancyMessage(FrancyMessageType.SUCCESS, \"Hello\"));\n",
    "Add(canvas, FrancyMessage(\"Hello\", \"World\"));\n",
    "Add(shape, FrancyMessage(\"Hello\", \"World\"));\n",
    "\n",
    "Draw(canvas);"
   ]
  },
  {
   "cell_type": "markdown",
   "metadata": {},
   "source": [
    "# Graphs\n",
    "\n",
    "Graphs, according to wikipedia: *a graph is a structure amounting to a set of objects in which some pairs of the objects are in some sense \"related\"*\n",
    "\n",
    "In Francy, Graphs can be created using Shapes (nodes) and Links (edges). Francy, in this case the D3 library, will try its best to shape the graph according to a set of \"forces\". If the Shapes provide x and y coordinates, these will be used instead and the graph will be fixed to those.\n",
    "\n",
    "Supported GraphTypes are:\n",
    "\n",
    "* GraphType.UNDIRECTED\n",
    "* GraphType.DIRECTED\n",
    "* GraphType.HASSE\n",
    "* GraphType.TREE\n",
    "\n",
    "By default, Graphs are created with default options set to:\n",
    "\n",
    "* GraphDefaults.simulation [true] - does not work on type **tree**. applies d3 forces to the diagram and arranges the nodes without fixed positions\n",
    "* GraphDefaults.drag [true] - does not work on type **tree**. allows the user to interact my dragging noes around\n",
    "* GraphDefaults.collapsed [true] - only works on type **tree**! whether the graph will be collapsed or not by default.\n",
    "* GraphDefaults.showNeighbours [true] - does not work on type **tree**. Whether default behavior of clicking is to show the neighbours of the selected node.\n",
    "\n",
    "Supported ShapeTypes are (Node Shapes):\n",
    "\n",
    "* ShapeType.TRIANGLE\n",
    "* ShapeType.DIAMOND\n",
    "* ShapeType.CIRCLE\n",
    "* ShapeType.SQUARE\n",
    "* ShapeType.CROSS\n",
    "* ShapeType.STAR\n",
    "* ShapeType.WYE\n",
    "\n",
    "By default, Shapes are created with default options set to:\n",
    "\n",
    "* ShapeDefaults.highlight [true]\n",
    "* ShapeDefaults.layer [0] - used by hasse diagrams to set indexes\n",
    "* ShapeDefaults.size [10]\n",
    "* ShapeDefaults.x [0] - x position in canvas\n",
    "* ShapeDefaults.y [0] - y position in canvas\n",
    "\n",
    "*NOTE: Please note that Francy is not a Graph Library and thus no graph operations, in mathematical terms, are available*\n",
    "\n",
    "## How to create Graphs?\n",
    "\n",
    "Let's see how to create a graph of each type, starting with the Hasse. The Hasse diagram requires the layer to be set, in order to fix y positions to this layer option:\n",
    "\n",
    "```gap\n",
    "gap> graph := Graph(GraphType.HASSE);\n",
    "gap> shape := Shape(ShapeType.CIRCLE, \"Title\");\n",
    "gap> SetLayer(shape, 1);\n",
    "gap> shape1 := Shape(ShapeType.CIRCLE);\n",
    "gap> SetLayer(shape1, 2);\n",
    "gap> link := Link(shape, shape1);\n",
    "gap> Add(graph, shape);\n",
    "gap> Add(graph, shape1);\n",
    "gap> Add(graph, link);\n",
    "```\n",
    "\n",
    "*NOTE: This might change in order to ease the creation of HASSE diagrams without having to specify the layer. Suggestions are welcome!*\n",
    "\n",
    "A Directed graph instead is simpler:\n",
    "\n",
    "```gap\n",
    "gap> graph := Graph(GraphType.DIRECTED);\n",
    "gap> shape := Shape(ShapeType.CIRCLE, \"Title\");\n",
    "gap> shape1 := Shape(ShapeType.CIRCLE);\n",
    "gap> link := Link(shape, shape1);\n",
    "gap> Add(graph, shape);\n",
    "gap> Add(graph, shape1);\n",
    "gap> Add(graph, link);\n",
    "```\n",
    "\n",
    "Undirected graphs are as simple as Directed ones, but the arrows are not present:\n",
    "\n",
    "```gap\n",
    "gap> graph := Graph(GraphType.UNDIRECTED);\n",
    "gap> shape := Shape(ShapeType.CIRCLE, \"Title\");\n",
    "gap> shape1 := Shape(ShapeType.CIRCLE);\n",
    "gap> link := Link(shape, shape1);\n",
    "gap> Add(graph, shape);\n",
    "gap> Add(graph, shape1);\n",
    "gap> Add(graph, link);\n",
    "```\n",
    "\n",
    "Tree graphs are as simple as the previous ones, but you need to specify the parent node:\n",
    "\n",
    "```gap\n",
    "gap> graph := Graph(GraphType.TREE);\n",
    "gap> shape := Shape(ShapeType.CIRCLE, \"Title\");\n",
    "gap> shape1 := Shape(ShapeType.CIRCLE);\n",
    "gap> Add(graph, shape);\n",
    "gap> Add(graph, shape1);\n",
    "gap> SetParentNode(shape1, shape);\n",
    "```\n",
    "\n",
    "**NOTE: Blue node are clickable on trees and allows to expand and collapse.**"
   ]
  },
  {
   "cell_type": "code",
   "execution_count": 109,
   "metadata": {},
   "outputs": [
    {
     "data": {
      "text/plain": [
       "<IsFrancyObject/IsCanvas>"
      ]
     },
     "execution_count": 97,
     "metadata": {},
     "output_type": "execute_result"
    },
    {
     "data": {
      "text/plain": [
       "<IsFrancyObject/IsFrancyGraph>"
      ]
     },
     "execution_count": 99,
     "metadata": {},
     "output_type": "execute_result"
    },
    {
     "data": {
      "text/plain": [
       "<IsFrancyObject/IsShape>"
      ]
     },
     "execution_count": 100,
     "metadata": {},
     "output_type": "execute_result"
    },
    {
     "data": {
      "text/plain": [
       "<IsFrancyObject/IsShape>"
      ]
     },
     "execution_count": 102,
     "metadata": {},
     "output_type": "execute_result"
    },
    {
     "data": {
      "text/plain": [
       "<IsFrancyObject/IsLink>"
      ]
     },
     "execution_count": 106,
     "metadata": {},
     "output_type": "execute_result"
    },
    {
     "data": {
      "application/vnd.francy+json": "{\"version\" : \"0.5.0\",\"mime\" : \"application\\/vnd.francy+json\",\"canvas\" : {\"width\" : 800,\"height\" : 100,\"id\" : \"F44\",\"title\" : \"Example HASSE Graph\",\"zoomToFit\" : true,\"menus\" : {},\"graph\" : {\"type\" : \"hasse\",\"id\" : \"F45\",\"simulation\" : true,\"collapsed\" : true,\"drag\" : false,\"showNeighbours\" : false,\"nodes\" : {\"F46\" : {\"x\" : 0,\"y\" : 0,\"type\" : \"circle\",\"size\" : 10,\"id\" : \"F46\",\"title\" : \"G\",\"layer\" : 1,\"highlight\" : true,\"parent\" : \"\",\"menus\" : {},\"messages\" : {},\"callbacks\" : {}},\"F47\" : {\"x\" : 0,\"y\" : 0,\"type\" : \"circle\",\"size\" : 10,\"id\" : \"F47\",\"title\" : \"1\",\"layer\" : 2,\"highlight\" : true,\"parent\" : \"\",\"menus\" : {},\"messages\" : {},\"callbacks\" : {}}},\"links\" : {\"F48\" : {\"source\" : \"F46\",\"id\" : \"F48\",\"target\" : \"F47\"}}},\"messages\" : {}}}"
     },
     "execution_count": 109,
     "metadata": {},
     "output_type": "execute_result"
    }
   ],
   "source": [
    "canvas := Canvas(\"Example HASSE Graph\");\n",
    "SetHeight(canvas, 100);\n",
    "\n",
    "graph := Graph(GraphType.HASSE);\n",
    "\n",
    "shape := Shape(ShapeType.CIRCLE, \"G\");\n",
    "SetLayer(shape, 1);\n",
    "shape1 := Shape(ShapeType.CIRCLE, \"1\");\n",
    "SetLayer(shape1, 2);\n",
    "Add(graph, shape);\n",
    "Add(graph, shape1);\n",
    "\n",
    "link := Link(shape, shape1);\n",
    "Add(graph, link);\n",
    "\n",
    "Add(canvas, graph);\n",
    "\n",
    "Draw(canvas);"
   ]
  },
  {
   "cell_type": "code",
   "execution_count": 122,
   "metadata": {},
   "outputs": [
    {
     "data": {
      "text/plain": [
       "<IsFrancyObject/IsCanvas>"
      ]
     },
     "execution_count": 110,
     "metadata": {},
     "output_type": "execute_result"
    },
    {
     "data": {
      "text/plain": [
       "<IsFrancyObject/IsFrancyGraph>"
      ]
     },
     "execution_count": 112,
     "metadata": {},
     "output_type": "execute_result"
    },
    {
     "data": {
      "text/plain": [
       "<IsFrancyObject/IsShape>"
      ]
     },
     "execution_count": 113,
     "metadata": {},
     "output_type": "execute_result"
    },
    {
     "data": {
      "text/plain": [
       "<IsFrancyObject/IsShape>"
      ]
     },
     "execution_count": 115,
     "metadata": {},
     "output_type": "execute_result"
    },
    {
     "data": {
      "text/plain": [
       "<IsFrancyObject/IsLink>"
      ]
     },
     "execution_count": 119,
     "metadata": {},
     "output_type": "execute_result"
    },
    {
     "data": {
      "application/vnd.francy+json": "{\"version\" : \"0.5.0\",\"mime\" : \"application\\/vnd.francy+json\",\"canvas\" : {\"width\" : 800,\"height\" : 100,\"id\" : \"F49\",\"title\" : \"Example DIRECTED Graph\",\"zoomToFit\" : true,\"menus\" : {},\"graph\" : {\"type\" : \"directed\",\"id\" : \"F50\",\"simulation\" : true,\"collapsed\" : true,\"drag\" : false,\"showNeighbours\" : false,\"nodes\" : {\"F51\" : {\"x\" : 0,\"y\" : 0,\"type\" : \"circle\",\"size\" : 10,\"id\" : \"F51\",\"title\" : \"G\",\"layer\" : 1,\"highlight\" : true,\"parent\" : \"\",\"menus\" : {},\"messages\" : {},\"callbacks\" : {}},\"F52\" : {\"x\" : 0,\"y\" : 0,\"type\" : \"circle\",\"size\" : 10,\"id\" : \"F52\",\"title\" : \"1\",\"layer\" : 2,\"highlight\" : true,\"parent\" : \"\",\"menus\" : {},\"messages\" : {},\"callbacks\" : {}}},\"links\" : {\"F53\" : {\"source\" : \"F51\",\"id\" : \"F53\",\"target\" : \"F52\"}}},\"messages\" : {}}}"
     },
     "execution_count": 122,
     "metadata": {},
     "output_type": "execute_result"
    }
   ],
   "source": [
    "canvas := Canvas(\"Example DIRECTED Graph\");\n",
    "SetHeight(canvas, 100);\n",
    "\n",
    "graph := Graph(GraphType.DIRECTED);\n",
    "\n",
    "shape := Shape(ShapeType.CIRCLE, \"G\");\n",
    "SetLayer(shape, 1);\n",
    "shape1 := Shape(ShapeType.CIRCLE, \"1\");\n",
    "SetLayer(shape1, 2);\n",
    "Add(graph, shape);\n",
    "Add(graph, shape1);\n",
    "\n",
    "link := Link(shape, shape1);\n",
    "Add(graph, link);\n",
    "\n",
    "Add(canvas, graph);\n",
    "\n",
    "Draw(canvas);"
   ]
  },
  {
   "cell_type": "code",
   "execution_count": 135,
   "metadata": {},
   "outputs": [
    {
     "data": {
      "text/plain": [
       "<IsFrancyObject/IsCanvas>"
      ]
     },
     "execution_count": 123,
     "metadata": {},
     "output_type": "execute_result"
    },
    {
     "data": {
      "text/plain": [
       "<IsFrancyObject/IsFrancyGraph>"
      ]
     },
     "execution_count": 125,
     "metadata": {},
     "output_type": "execute_result"
    },
    {
     "data": {
      "text/plain": [
       "<IsFrancyObject/IsShape>"
      ]
     },
     "execution_count": 126,
     "metadata": {},
     "output_type": "execute_result"
    },
    {
     "data": {
      "text/plain": [
       "<IsFrancyObject/IsShape>"
      ]
     },
     "execution_count": 128,
     "metadata": {},
     "output_type": "execute_result"
    },
    {
     "data": {
      "text/plain": [
       "<IsFrancyObject/IsLink>"
      ]
     },
     "execution_count": 132,
     "metadata": {},
     "output_type": "execute_result"
    },
    {
     "data": {
      "application/vnd.francy+json": "{\"version\" : \"0.5.0\",\"mime\" : \"application\\/vnd.francy+json\",\"canvas\" : {\"width\" : 800,\"height\" : 100,\"id\" : \"F54\",\"title\" : \"Example UNDIRECTED Graph\",\"zoomToFit\" : true,\"menus\" : {},\"graph\" : {\"type\" : \"undirected\",\"id\" : \"F55\",\"simulation\" : true,\"collapsed\" : true,\"drag\" : false,\"showNeighbours\" : false,\"nodes\" : {\"F56\" : {\"x\" : 0,\"y\" : 0,\"type\" : \"circle\",\"size\" : 10,\"id\" : \"F56\",\"title\" : \"G\",\"layer\" : 1,\"highlight\" : true,\"parent\" : \"\",\"menus\" : {},\"messages\" : {},\"callbacks\" : {}},\"F57\" : {\"x\" : 0,\"y\" : 0,\"type\" : \"circle\",\"size\" : 10,\"id\" : \"F57\",\"title\" : \"1\",\"layer\" : 2,\"highlight\" : true,\"parent\" : \"\",\"menus\" : {},\"messages\" : {},\"callbacks\" : {}}},\"links\" : {\"F58\" : {\"source\" : \"F56\",\"id\" : \"F58\",\"target\" : \"F57\"}}},\"messages\" : {}}}"
     },
     "execution_count": 135,
     "metadata": {},
     "output_type": "execute_result"
    }
   ],
   "source": [
    "canvas := Canvas(\"Example UNDIRECTED Graph\");\n",
    "SetHeight(canvas, 100);\n",
    "\n",
    "graph := Graph(GraphType.UNDIRECTED);\n",
    "\n",
    "shape := Shape(ShapeType.CIRCLE, \"G\");\n",
    "SetLayer(shape, 1);\n",
    "shape1 := Shape(ShapeType.CIRCLE, \"1\");\n",
    "SetLayer(shape1, 2);\n",
    "Add(graph, shape);\n",
    "Add(graph, shape1);\n",
    "\n",
    "link := Link(shape, shape1);\n",
    "Add(graph, link);\n",
    "\n",
    "Add(canvas, graph);\n",
    "\n",
    "Draw(canvas);"
   ]
  },
  {
   "cell_type": "code",
   "execution_count": 159,
   "metadata": {},
   "outputs": [
    {
     "data": {
      "text/plain": [
       "<IsFrancyObject/IsCanvas>"
      ]
     },
     "execution_count": 136,
     "metadata": {},
     "output_type": "execute_result"
    },
    {
     "data": {
      "text/plain": [
       "<IsFrancyObject/IsFrancyGraph>"
      ]
     },
     "execution_count": 138,
     "metadata": {},
     "output_type": "execute_result"
    },
    {
     "data": {
      "text/plain": [
       "<IsFrancyObject/IsShape>"
      ]
     },
     "execution_count": 139,
     "metadata": {},
     "output_type": "execute_result"
    },
    {
     "data": {
      "text/plain": [
       "<IsFrancyObject/IsShape>"
      ]
     },
     "execution_count": 141,
     "metadata": {},
     "output_type": "execute_result"
    },
    {
     "data": {
      "text/plain": [
       "<IsFrancyObject/IsShape>"
      ]
     },
     "execution_count": 143,
     "metadata": {},
     "output_type": "execute_result"
    },
    {
     "data": {
      "text/plain": [
       "<IsFrancyObject/IsShape>"
      ]
     },
     "execution_count": 146,
     "metadata": {},
     "output_type": "execute_result"
    },
    {
     "data": {
      "text/plain": [
       "<IsFrancyObject/IsShape>"
      ]
     },
     "execution_count": 150,
     "metadata": {},
     "output_type": "execute_result"
    },
    {
     "data": {
      "text/plain": [
       "<IsFrancyObject/IsShape>"
      ]
     },
     "execution_count": 154,
     "metadata": {},
     "output_type": "execute_result"
    },
    {
     "data": {
      "application/vnd.francy+json": "{\"version\" : \"0.5.0\",\"mime\" : \"application\\/vnd.francy+json\",\"canvas\" : {\"width\" : 800,\"height\" : 100,\"id\" : \"F59\",\"title\" : \"Example Multiple Shapes Graph\",\"zoomToFit\" : true,\"menus\" : {},\"graph\" : {\"type\" : \"undirected\",\"id\" : \"F60\",\"simulation\" : true,\"collapsed\" : true,\"drag\" : false,\"showNeighbours\" : false,\"nodes\" : {\"F61\" : {\"x\" : 0,\"y\" : 0,\"type\" : \"diamond\",\"size\" : 10,\"id\" : \"F61\",\"title\" : \"G\",\"layer\" : 0,\"highlight\" : true,\"parent\" : \"\",\"menus\" : {},\"messages\" : {},\"callbacks\" : {}},\"F62\" : {\"x\" : 0,\"y\" : 0,\"type\" : \"wye\",\"size\" : 10,\"id\" : \"F62\",\"title\" : \"1\",\"layer\" : 0,\"highlight\" : true,\"parent\" : \"\",\"menus\" : {},\"messages\" : {},\"callbacks\" : {}},\"F63\" : {\"x\" : 0,\"y\" : 0,\"type\" : \"square\",\"size\" : 10,\"id\" : \"F63\",\"title\" : \"SG1\",\"layer\" : 0,\"highlight\" : true,\"parent\" : \"\",\"menus\" : {},\"messages\" : {},\"callbacks\" : {}},\"F65\" : {\"x\" : 0,\"y\" : 0,\"type\" : \"triangle\",\"size\" : 10,\"id\" : \"F65\",\"title\" : \"SG2\",\"layer\" : 0,\"highlight\" : true,\"parent\" : \"\",\"menus\" : {},\"messages\" : {},\"callbacks\" : {}},\"F68\" : {\"x\" : 0,\"y\" : 0,\"type\" : \"cross\",\"size\" : 10,\"id\" : \"F68\",\"title\" : \"SG3\",\"layer\" : 0,\"highlight\" : true,\"parent\" : \"\",\"menus\" : {},\"messages\" : {},\"callbacks\" : {}},\"F71\" : {\"x\" : 0,\"y\" : 0,\"type\" : \"star\",\"size\" : 10,\"id\" : \"F71\",\"title\" : \"SG4\",\"layer\" : 0,\"highlight\" : true,\"parent\" : \"\",\"menus\" : {},\"messages\" : {},\"callbacks\" : {}}},\"links\" : {\"F64\" : {\"source\" : \"F61\",\"id\" : \"F64\",\"target\" : \"F63\"},\"F66\" : {\"source\" : \"F63\",\"id\" : \"F66\",\"target\" : \"F65\"},\"F67\" : {\"source\" : \"F65\",\"id\" : \"F67\",\"target\" : \"F62\"},\"F69\" : {\"source\" : \"F63\",\"id\" : \"F69\",\"target\" : \"F68\"},\"F70\" : {\"source\" : \"F68\",\"id\" : \"F70\",\"target\" : \"F62\"},\"F72\" : {\"source\" : \"F63\",\"id\" : \"F72\",\"target\" : \"F71\"},\"F73\" : {\"source\" : \"F71\",\"id\" : \"F73\",\"target\" : \"F62\"}}},\"messages\" : {}}}"
     },
     "execution_count": 159,
     "metadata": {},
     "output_type": "execute_result"
    }
   ],
   "source": [
    "canvas := Canvas(\"Example Multiple Shapes Graph\");\n",
    "SetHeight(canvas, 100);\n",
    "\n",
    "graph := Graph(GraphType.UNDIRECTED);\n",
    "\n",
    "shapeG := Shape(ShapeType.DIAMOND, \"G\");\n",
    "Add(graph, shapeG);\n",
    "shape1 := Shape(ShapeType.WYE, \"1\");\n",
    "Add(graph, shape1);\n",
    "\n",
    "shapeSG1 := Shape(ShapeType.SQUARE, \"SG1\");\n",
    "Add(graph, shapeSG1);\n",
    "Add(graph, Link(shapeG, shapeSG1));\n",
    "\n",
    "shapeSG2 := Shape(ShapeType.TRIANGLE, \"SG2\");\n",
    "Add(graph, shapeSG2);\n",
    "Add(graph, Link(shapeSG1, shapeSG2));\n",
    "Add(graph, Link(shapeSG2, shape1));\n",
    "\n",
    "shapeSG3 := Shape(ShapeType.CROSS, \"SG3\");\n",
    "Add(graph, shapeSG3);\n",
    "Add(graph, Link(shapeSG1, shapeSG3));\n",
    "Add(graph, Link(shapeSG3, shape1));\n",
    "\n",
    "shapeSG4 := Shape(ShapeType.STAR, \"SG4\");\n",
    "Add(graph, shapeSG4);\n",
    "Add(graph, Link(shapeSG1, shapeSG4));\n",
    "Add(graph, Link(shapeSG4, shape1));\n",
    "\n",
    "Add(canvas, graph);\n",
    "\n",
    "Draw(canvas);"
   ]
  },
  {
   "cell_type": "code",
   "execution_count": 631,
   "metadata": {},
   "outputs": [
    {
     "data": {
      "text/plain": [
       "<IsFrancyObject/IsCanvas>"
      ]
     },
     "execution_count": 610,
     "metadata": {},
     "output_type": "execute_result"
    },
    {
     "data": {
      "text/plain": [
       "<IsFrancyObject/IsFrancyGraph>"
      ]
     },
     "execution_count": 612,
     "metadata": {},
     "output_type": "execute_result"
    },
    {
     "data": {
      "text/plain": [
       "<IsFrancyObject/IsShape>"
      ]
     },
     "execution_count": 614,
     "metadata": {},
     "output_type": "execute_result"
    },
    {
     "data": {
      "text/plain": [
       "<IsFrancyObject/IsShape>"
      ]
     },
     "execution_count": 616,
     "metadata": {},
     "output_type": "execute_result"
    },
    {
     "data": {
      "text/plain": [
       "<IsFrancyObject/IsShape>"
      ]
     },
     "execution_count": 618,
     "metadata": {},
     "output_type": "execute_result"
    },
    {
     "data": {
      "text/plain": [
       "<IsFrancyObject/IsShape>"
      ]
     },
     "execution_count": 620,
     "metadata": {},
     "output_type": "execute_result"
    },
    {
     "data": {
      "text/plain": [
       "<IsFrancyObject/IsShape>"
      ]
     },
     "execution_count": 622,
     "metadata": {},
     "output_type": "execute_result"
    },
    {
     "data": {
      "text/plain": [
       "<IsFrancyObject/IsShape>"
      ]
     },
     "execution_count": 624,
     "metadata": {},
     "output_type": "execute_result"
    },
    {
     "data": {
      "application/vnd.francy+json": "{\"version\" : \"0.5.0\",\"mime\" : \"application\\/vnd.francy+json\",\"canvas\" : {\"width\" : 800,\"height\" : 100,\"id\" : \"F250\",\"title\" : \"Example Multiple Shapes Graph\",\"zoomToFit\" : true,\"menus\" : {},\"graph\" : {\"type\" : \"tree\",\"id\" : \"F251\",\"simulation\" : true,\"collapsed\" : false,\"drag\" : false,\"showNeighbours\" : false,\"nodes\" : {\"F252\" : {\"x\" : 0,\"y\" : 0,\"type\" : \"circle\",\"size\" : 10,\"id\" : \"F252\",\"title\" : \"G\",\"layer\" : 0,\"highlight\" : true,\"parent\" : \"\",\"menus\" : {},\"messages\" : {},\"callbacks\" : {}},\"F253\" : {\"x\" : 0,\"y\" : 0,\"type\" : \"square\",\"size\" : 10,\"id\" : \"F253\",\"title\" : \"1\",\"layer\" : 0,\"highlight\" : true,\"parent\" : \"F257\",\"menus\" : {},\"messages\" : {},\"callbacks\" : {}},\"F254\" : {\"x\" : 0,\"y\" : 0,\"type\" : \"circle\",\"size\" : 10,\"id\" : \"F254\",\"title\" : \"SG1\",\"layer\" : 0,\"highlight\" : true,\"parent\" : \"\",\"menus\" : {},\"messages\" : {},\"callbacks\" : {}},\"F255\" : {\"x\" : 0,\"y\" : 0,\"type\" : \"square\",\"size\" : 10,\"id\" : \"F255\",\"title\" : \"SG2\",\"layer\" : 0,\"highlight\" : true,\"parent\" : \"F252\",\"menus\" : {},\"messages\" : {},\"callbacks\" : {}},\"F256\" : {\"x\" : 0,\"y\" : 0,\"type\" : \"circle\",\"size\" : 10,\"id\" : \"F256\",\"title\" : \"SG3\",\"layer\" : 0,\"highlight\" : true,\"parent\" : \"F252\",\"menus\" : {},\"messages\" : {},\"callbacks\" : {}},\"F257\" : {\"x\" : 0,\"y\" : 0,\"type\" : \"circle\",\"size\" : 10,\"id\" : \"F257\",\"title\" : \"SG4\",\"layer\" : 0,\"highlight\" : true,\"parent\" : \"F256\",\"menus\" : {},\"messages\" : {},\"callbacks\" : {}}},\"links\" : {}},\"messages\" : {}}}"
     },
     "execution_count": 631,
     "metadata": {},
     "output_type": "execute_result"
    }
   ],
   "source": [
    "canvas := Canvas(\"Example Multiple Shapes Graph\");\n",
    "SetHeight(canvas, 100);\n",
    "\n",
    "graph := Graph(GraphType.TREE);\n",
    "SetCollapsed(graph, false);\n",
    "\n",
    "shapeG := Shape(ShapeType.CIRCLE, \"G\");\n",
    "Add(graph, shapeG);\n",
    "\n",
    "shape1 := Shape(ShapeType.SQUARE, \"1\");\n",
    "Add(graph, shape1);\n",
    "\n",
    "shapeSG1 := Shape(ShapeType.CIRCLE, \"SG1\");\n",
    "Add(graph, shapeSG1);\n",
    "\n",
    "shapeSG2 := Shape(ShapeType.SQUARE, \"SG2\");\n",
    "Add(graph, shapeSG2);\n",
    "\n",
    "shapeSG3 := Shape(ShapeType.CIRCLE, \"SG3\");\n",
    "Add(graph, shapeSG3);\n",
    "\n",
    "shapeSG4 := Shape(ShapeType.CIRCLE, \"SG4\");\n",
    "Add(graph, shapeSG4);\n",
    "\n",
    "SetParentNode(shapeSG2, shapeG);\n",
    "SetParentNode(shapeSG3, shapeG);\n",
    "SetParentNode(shapeSG4, shapeSG3);\n",
    "SetParentNode(shape1, shapeSG4);\n",
    "\n",
    "Add(canvas, graph);\n",
    "\n",
    "Draw(canvas);"
   ]
  },
  {
   "cell_type": "markdown",
   "metadata": {},
   "source": [
    "# Charts\n",
    "\n",
    "Charts are another graphical way to represent data.\n",
    "\n",
    "Supported ChartTypes:\n",
    "\n",
    "* ChartType.LINE\n",
    "* ChartType.BAR\n",
    "* ChartType.SCATTER\n",
    "\n",
    "By default, Chart are created with default options set to:\n",
    "\n",
    "* ChartDefaults.labels [true]\n",
    "* ChartDefaults.legend [true]\n",
    "\n",
    "## How to create Charts?\n",
    "\n",
    "Let's see how to create a Chart of each type, starting with the LINE. LINE Charts don't support providing a custom domain, this needs more work!\n",
    "\n",
    "```gap\n",
    "gap> chart := Chart(ChartType.LINE);\n",
    "gap> SetAxisXTitle(chart, \"X Axis\");\n",
    "gap> SetAxisYTitle(chart, \"Y Axis\");\n",
    "\n",
    "gap> data1 := Dataset(\"data1\", [100,20,30,47,90]);\n",
    "gap> data2 := Dataset(\"data2\", [51,60,72,38,97]);\n",
    "gap> data3 := Dataset(\"data3\", [50,60,70,80,90]);\n",
    "\n",
    "gap> Add(chart, [data1, data2, data3]);\n",
    "```\n",
    "\n",
    "The same data in a Bar Chart:\n",
    "\n",
    "```gap\n",
    "gap> chart := Chart(ChartType.BAR);\n",
    "gap> SetAxisXTitle(chart, \"X Axis\");\n",
    "gap> SetAxisXDomain(chart, [\"domain1\", \"domain2\", \"domain3\", \"domain4\", \"domain5\"]);\n",
    "gap> SetAxisYTitle(chart, \"Y Axis\");\n",
    "\n",
    "gap> data1 := Dataset(\"data1\", [100,20,30,47,90]);\n",
    "gap> data2 := Dataset(\"data2\", [51,60,72,38,97]);\n",
    "gap> data3 := Dataset(\"data3\", [50,60,70,80,90]);\n",
    "\n",
    "gap> Add(chart, [data1, data2, data3]);\n",
    "```\n",
    "\n",
    "Same data in a SCATTER Chart:\n",
    "\n",
    "\n",
    "```gap\n",
    "gap> chart := Chart(ChartType.SCATTER);\n",
    "gap> SetAxisXTitle(chart, \"X Axis\");\n",
    "gap> SetAxisYTitle(chart, \"Y Axis\");\n",
    "\n",
    "gap> data1 := Dataset(\"data1\", [100,20,30,47,90]);\n",
    "gap> data2 := Dataset(\"data2\", [51,60,72,38,97]);\n",
    "gap> data3 := Dataset(\"data3\", [50,60,70,80,90]);\n",
    "\n",
    "gap> Add(chart, [data1, data2, data3]);\n",
    "```\n",
    "\n",
    "*NOTE: Charts need more work in general*"
   ]
  },
  {
   "cell_type": "code",
   "execution_count": 119,
   "metadata": {},
   "outputs": [
    {
     "data": {
      "text/plain": [
       "<object>"
      ]
     },
     "execution_count": 109,
     "metadata": {},
     "output_type": "execute_result"
    },
    {
     "data": {
      "text/plain": [
       "\"200\""
      ]
     },
     "execution_count": 110,
     "metadata": {},
     "output_type": "execute_result"
    },
    {
     "data": {
      "text/plain": [
       "<object>"
      ]
     },
     "execution_count": 111,
     "metadata": {},
     "output_type": "execute_result"
    },
    {
     "data": {
      "text/plain": [
       "\"X Axis\""
      ]
     },
     "execution_count": 112,
     "metadata": {},
     "output_type": "execute_result"
    },
    {
     "data": {
      "text/plain": [
       "\"Y Axis\""
      ]
     },
     "execution_count": 113,
     "metadata": {},
     "output_type": "execute_result"
    },
    {
     "data": {
      "text/plain": [
       "<object>"
      ]
     },
     "execution_count": 114,
     "metadata": {},
     "output_type": "execute_result"
    },
    {
     "data": {
      "text/plain": [
       "<object>"
      ]
     },
     "execution_count": 115,
     "metadata": {},
     "output_type": "execute_result"
    },
    {
     "data": {
      "text/plain": [
       "<object>"
      ]
     },
     "execution_count": 116,
     "metadata": {},
     "output_type": "execute_result"
    },
    {
     "data": {
      "application/vnd.francy+json": "{\"version\" : \"0.5.0\",\"mime\" : \"application\\/vnd.francy+json\",\"canvas\" : {\"width\" : \"800\",\"height\" : \"200\",\"id\" : \"A53\",\"title\" : \"Example LINE Chart\",\"zoomToFit\" : true,\"menus\" : {},\"chart\" : {\"type\" : \"line\",\"data\" : {\"data1\" : [\"100\",\"20\",\"30\",\"47\",\"90\"],\"data2\" : [\"51\",\"60\",\"72\",\"38\",\"97\"],\"data3\" : [\"50\",\"60\",\"70\",\"80\",\"90\"]},\"labels\" : true,\"id\" : \"A54\",\"legend\" : true,\"axis\" : {\"x\" : {\"domain\" : [],\"title\" : \"X Axis\",\"scale\" : \"linear\"},\"y\" : {\"domain\" : [],\"title\" : \"Y Axis\",\"scale\" : \"linear\"}}},\"messages\" : {}}}"
     },
     "execution_count": 119,
     "metadata": {},
     "output_type": "execute_result"
    }
   ],
   "source": [
    "canvas := Canvas(\"Example LINE Chart\");\n",
    "SetHeight(canvas, 200);\n",
    "\n",
    "chart := Chart(ChartType.LINE);\n",
    "SetAxisXTitle(chart, \"X Axis\");\n",
    "SetAxisYTitle(chart, \"Y Axis\");\n",
    "\n",
    "data1 := Dataset(\"data1\", [100,20,30,47,90]);\n",
    "data2 := Dataset(\"data2\", [51,60,72,38,97]);\n",
    "data3 := Dataset(\"data3\", [50,60,70,80,90]);\n",
    "\n",
    "Add(chart, [data1, data2, data3]);\n",
    "Add(canvas, chart);\n",
    "\n",
    "Draw(canvas);"
   ]
  },
  {
   "cell_type": "code",
   "execution_count": 131,
   "metadata": {},
   "outputs": [
    {
     "data": {
      "text/plain": [
       "<object>"
      ]
     },
     "execution_count": 120,
     "metadata": {},
     "output_type": "execute_result"
    },
    {
     "data": {
      "text/plain": [
       "\"200\""
      ]
     },
     "execution_count": 121,
     "metadata": {},
     "output_type": "execute_result"
    },
    {
     "data": {
      "text/plain": [
       "<object>"
      ]
     },
     "execution_count": 122,
     "metadata": {},
     "output_type": "execute_result"
    },
    {
     "data": {
      "text/plain": [
       "\"X Axis\""
      ]
     },
     "execution_count": 123,
     "metadata": {},
     "output_type": "execute_result"
    },
    {
     "data": {
      "text/plain": [
       "[ \"domain1\", \"domain2\", \"domain3\", \"domain4\", \"domain5\" ]"
      ]
     },
     "execution_count": 124,
     "metadata": {},
     "output_type": "execute_result"
    },
    {
     "data": {
      "text/plain": [
       "\"Y Axis\""
      ]
     },
     "execution_count": 125,
     "metadata": {},
     "output_type": "execute_result"
    },
    {
     "data": {
      "text/plain": [
       "<object>"
      ]
     },
     "execution_count": 126,
     "metadata": {},
     "output_type": "execute_result"
    },
    {
     "data": {
      "text/plain": [
       "<object>"
      ]
     },
     "execution_count": 127,
     "metadata": {},
     "output_type": "execute_result"
    },
    {
     "data": {
      "text/plain": [
       "<object>"
      ]
     },
     "execution_count": 128,
     "metadata": {},
     "output_type": "execute_result"
    },
    {
     "data": {
      "application/vnd.francy+json": "{\"version\" : \"0.5.0\",\"mime\" : \"application\\/vnd.francy+json\",\"canvas\" : {\"width\" : \"800\",\"height\" : \"200\",\"id\" : \"A55\",\"title\" : \"Example BAR Chart\",\"zoomToFit\" : true,\"menus\" : {},\"chart\" : {\"type\" : \"bar\",\"data\" : {\"data1\" : [\"100\",\"20\",\"30\",\"47\",\"90\"],\"data2\" : [\"51\",\"60\",\"72\",\"38\",\"97\"],\"data3\" : [\"50\",\"60\",\"70\",\"80\",\"90\"]},\"labels\" : true,\"id\" : \"A56\",\"legend\" : true,\"axis\" : {\"x\" : {\"domain\" : [\"domain1\",\"domain2\",\"domain3\",\"domain4\",\"domain5\"],\"title\" : \"X Axis\",\"scale\" : \"band\"},\"y\" : {\"domain\" : [],\"title\" : \"Y Axis\",\"scale\" : \"linear\"}}},\"messages\" : {}}}"
     },
     "execution_count": 131,
     "metadata": {},
     "output_type": "execute_result"
    }
   ],
   "source": [
    "canvas := Canvas(\"Example BAR Chart\");\n",
    "SetHeight(canvas, 200);\n",
    "\n",
    "chart := Chart(ChartType.BAR);\n",
    "SetAxisXTitle(chart, \"X Axis\");\n",
    "SetAxisXDomain(chart, [\"domain1\", \"domain2\", \"domain3\", \"domain4\", \"domain5\"]);\n",
    "SetAxisYTitle(chart, \"Y Axis\");\n",
    "\n",
    "data1 := Dataset(\"data1\", [100,20,30,47,90]);\n",
    "data2 := Dataset(\"data2\", [51,60,72,38,97]);\n",
    "data3 := Dataset(\"data3\", [50,60,70,80,90]);\n",
    "\n",
    "Add(chart, [data1, data2, data3]);\n",
    "Add(canvas, chart);\n",
    "\n",
    "Draw(canvas);"
   ]
  },
  {
   "cell_type": "code",
   "execution_count": 142,
   "metadata": {},
   "outputs": [
    {
     "data": {
      "text/plain": [
       "<object>"
      ]
     },
     "execution_count": 132,
     "metadata": {},
     "output_type": "execute_result"
    },
    {
     "data": {
      "text/plain": [
       "\"200\""
      ]
     },
     "execution_count": 133,
     "metadata": {},
     "output_type": "execute_result"
    },
    {
     "data": {
      "text/plain": [
       "<object>"
      ]
     },
     "execution_count": 134,
     "metadata": {},
     "output_type": "execute_result"
    },
    {
     "data": {
      "text/plain": [
       "\"X Axis\""
      ]
     },
     "execution_count": 135,
     "metadata": {},
     "output_type": "execute_result"
    },
    {
     "data": {
      "text/plain": [
       "\"Y Axis\""
      ]
     },
     "execution_count": 136,
     "metadata": {},
     "output_type": "execute_result"
    },
    {
     "data": {
      "text/plain": [
       "<object>"
      ]
     },
     "execution_count": 137,
     "metadata": {},
     "output_type": "execute_result"
    },
    {
     "data": {
      "text/plain": [
       "<object>"
      ]
     },
     "execution_count": 138,
     "metadata": {},
     "output_type": "execute_result"
    },
    {
     "data": {
      "text/plain": [
       "<object>"
      ]
     },
     "execution_count": 139,
     "metadata": {},
     "output_type": "execute_result"
    },
    {
     "data": {
      "application/vnd.francy+json": "{\"version\" : \"0.5.0\",\"mime\" : \"application\\/vnd.francy+json\",\"canvas\" : {\"width\" : \"800\",\"height\" : \"200\",\"id\" : \"A57\",\"title\" : \"Example SCATTER Chart\",\"zoomToFit\" : true,\"menus\" : {},\"chart\" : {\"type\" : \"scatter\",\"data\" : {\"data1\" : [\"100\",\"20\",\"30\",\"47\",\"90\"],\"data2\" : [\"51\",\"60\",\"72\",\"38\",\"97\"],\"data3\" : [\"50\",\"60\",\"70\",\"80\",\"90\"]},\"labels\" : true,\"id\" : \"A58\",\"legend\" : true,\"axis\" : {\"x\" : {\"domain\" : [],\"title\" : \"X Axis\",\"scale\" : \"linear\"},\"y\" : {\"domain\" : [],\"title\" : \"Y Axis\",\"scale\" : \"linear\"}}},\"messages\" : {}}}"
     },
     "execution_count": 142,
     "metadata": {},
     "output_type": "execute_result"
    }
   ],
   "source": [
    "canvas := Canvas(\"Example SCATTER Chart\");\n",
    "SetHeight(canvas, 200);\n",
    "\n",
    "chart := Chart(ChartType.SCATTER);\n",
    "SetAxisXTitle(chart, \"X Axis\");\n",
    "SetAxisYTitle(chart, \"Y Axis\");\n",
    "\n",
    "data1 := Dataset(\"data1\", [100,20,30,47,90]);\n",
    "data2 := Dataset(\"data2\", [51,60,72,38,97]);\n",
    "data3 := Dataset(\"data3\", [50,60,70,80,90]);\n",
    "\n",
    "Add(chart, [data1, data2, data3]);\n",
    "Add(canvas, chart);\n",
    "\n",
    "Draw(canvas);"
   ]
  }
 ],
 "metadata": {
  "kernelspec": {
   "display_name": "GAP 4 (native)",
   "language": "gap",
   "name": "gap-native"
  },
  "language_info": {
   "codemirror_mode": "gap",
   "file_extension": ".g",
   "mimetype": "text/x-gap",
   "name": "GAP (native)",
   "nbconvert_exporter": "",
   "pygments_lexer": "gap",
   "version": "4.dev"
  }
 },
 "nbformat": 4,
 "nbformat_minor": 2
}
