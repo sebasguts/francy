{
 "cells": [
  {
   "cell_type": "markdown",
   "metadata": {},
   "source": [
    "### Load Francy Package"
   ]
  },
  {
   "cell_type": "code",
   "execution_count": 2,
   "metadata": {},
   "outputs": [
    {
     "name": "stdout",
     "output_type": "stream",
     "text": [
      "\u0003#I  \u0003\u0003equal requirements in multiple declaratio\u0003ns for operation `JUPYTER_ViewString'\n",
      "\u0003\u0003\n",
      "\u0003\u0003#I  \u0003\u0003method installed for Add matches more tha\u0003n one declaration\u0003\u0003\n",
      "\u0003\u0003#I  \u0003\u0003method installed for Remove matches more \u0003than one declaration\u0003\u0003\n",
      "\u0003\u0003#I  \u0003\u0003Please load package NormalizInterface or \u00034ti2Interface\u0003\u0003\n",
      "\u0003\u0003#I  \u0003\u0003to have extended functionalities.\u0003\u0003\n",
      "\u0003\u0003#I  \u0003\u0003Please load package SingularInterface or \u0003singular (not both)\u0003\u0003\n",
      "\u0003\u0003#I  \u0003\u0003or GradedModules to have extended functio\u0003nalities.\u0003\u0003\n",
      "\u0003"
     ]
    },
    {
     "data": {
      "text/plain": [
       "true"
      ]
     },
     "execution_count": 1,
     "metadata": {},
     "output_type": "execute_result"
    },
    {
     "data": {
      "text/plain": [
       "true"
      ]
     },
     "execution_count": 2,
     "metadata": {},
     "output_type": "execute_result"
    }
   ],
   "source": [
    "LoadPackage(\"francy\");\n",
    "LoadPackage(\"num\");"
   ]
  },
  {
   "cell_type": "markdown",
   "metadata": {},
   "source": [
    "# Callbacks\n",
    "\n",
    "Click on the menu to add nodes to the canvas.\n",
    "\n",
    "Try adding 500 of each.\n",
    "\n",
    "Zoom in and out using the mouse wheel."
   ]
  },
  {
   "cell_type": "code",
   "execution_count": 17,
   "metadata": {},
   "outputs": [
    {
     "data": {
      "text/plain": [
       "<IsFrancyObject/IsCanvas>"
      ]
     },
     "execution_count": 3,
     "metadata": {},
     "output_type": "execute_result"
    },
    {
     "data": {
      "text/plain": [
       "<IsFrancyObject/IsFrancyGraph>"
      ]
     },
     "execution_count": 4,
     "metadata": {},
     "output_type": "execute_result"
    },
    {
     "data": {
      "text/plain": [
       "function( st, n ) ... end"
      ]
     },
     "execution_count": 5,
     "metadata": {},
     "output_type": "execute_result"
    },
    {
     "data": {
      "text/plain": [
       "function(  ) ... end"
      ]
     },
     "execution_count": 6,
     "metadata": {},
     "output_type": "execute_result"
    },
    {
     "data": {
      "text/plain": [
       "<IsFrancyObject/IsCallback>"
      ]
     },
     "execution_count": 7,
     "metadata": {},
     "output_type": "execute_result"
    },
    {
     "data": {
      "text/plain": [
       "<IsFrancyObject/IsCallback>"
      ]
     },
     "execution_count": 8,
     "metadata": {},
     "output_type": "execute_result"
    },
    {
     "data": {
      "text/plain": [
       "<IsFrancyObject/IsMenu>"
      ]
     },
     "execution_count": 10,
     "metadata": {},
     "output_type": "execute_result"
    },
    {
     "data": {
      "text/plain": [
       "<IsFrancyObject/IsCallback>"
      ]
     },
     "execution_count": 11,
     "metadata": {},
     "output_type": "execute_result"
    },
    {
     "data": {
      "text/plain": [
       "<IsFrancyObject/IsCallback>"
      ]
     },
     "execution_count": 12,
     "metadata": {},
     "output_type": "execute_result"
    },
    {
     "data": {
      "text/plain": [
       "<IsFrancyObject/IsMenu>"
      ]
     },
     "execution_count": 14,
     "metadata": {},
     "output_type": "execute_result"
    },
    {
     "data": {
      "text/plain": [
       "<IsFrancyObject/IsMenu>"
      ]
     },
     "execution_count": 15,
     "metadata": {},
     "output_type": "execute_result"
    },
    {
     "data": {
      "application/vnd.francy+json": "{\"version\" : \"0.5.0\",\"mime\" : \"application\\/vnd.francy+json\",\"canvas\" : {\"width\" : 800,\"height\" : 600,\"id\" : \"F1\",\"title\" : \"Add circles on demand\",\"zoomToFit\" : true,\"menus\" : {\"F5\" : {\"id\" : \"F5\",\"title\" : \"Add Circle\",\"callback\" : {\"func\" : \"AddShape\",\"id\" : \"F3\",\"trigger\" : \"click\",\"knownArgs\" : [\"<object>\"],\"requiredArgs\" : {\"F4\" : {\"type\" : \"number\",\"id\" : \"F4\",\"title\" : \"How many Circles?\",\"value\" : \"\"}}},\"menus\" : {}},\"F8\" : {\"id\" : \"F8\",\"title\" : \"Add Square\",\"callback\" : {\"func\" : \"AddShape\",\"id\" : \"F6\",\"trigger\" : \"click\",\"knownArgs\" : [\"<object>\"],\"requiredArgs\" : {\"F7\" : {\"type\" : \"number\",\"id\" : \"F7\",\"title\" : \"How many Squares?\",\"value\" : \"\"}}},\"menus\" : {}},\"F10\" : {\"id\" : \"F10\",\"title\" : \"Clear\",\"callback\" : {\"func\" : \"ClearGraph\",\"id\" : \"F9\",\"trigger\" : \"click\",\"knownArgs\" : [],\"requiredArgs\" : {}},\"menus\" : {}}},\"graph\" : {\"type\" : \"hasse\",\"id\" : \"F2\",\"simulation\" : true,\"collapsed\" : true,\"drag\" : false,\"showNeighbours\" : false,\"nodes\" : {},\"links\" : {}},\"messages\" : {}}}"
     },
     "execution_count": 17,
     "metadata": {},
     "output_type": "execute_result"
    }
   ],
   "source": [
    "canvas := Canvas(\"Add Shapes on demand\");\n",
    "\n",
    "graph := Graph(GraphType.HASSE);\n",
    "\n",
    "AddShape := function(st, n)\n",
    "    local i, shape;\n",
    "    for i in [1..Int(n)] do\n",
    "        shape := Shape(st, String(i));\n",
    "        SetLayer(shape, Random([1..16]));\n",
    "        Add(graph, shape);\n",
    "    od;\n",
    "    return Draw(canvas);\n",
    "end;\n",
    "\n",
    "ClearGraph := function()\n",
    "    UnsetNodes(graph);\n",
    "    return Draw(canvas);\n",
    "end;\n",
    "\n",
    "callback1 := Callback(AddShape, [ShapeType.CIRCLE]);\n",
    "arg1 := RequiredArg(ArgType.NUMBER, \"How many Circles?\");\n",
    "Add(callback1, arg1);\n",
    "menu1 := Menu( \"Add Circle\", callback1 );\n",
    "\n",
    "callback2 := Callback(AddShape, [ShapeType.SQUARE]);\n",
    "arg2 := RequiredArg(ArgType.NUMBER, \"How many Squares?\");\n",
    "Add(callback2, arg2);\n",
    "menu2 := Menu( \"Add Square\", callback2 );\n",
    "\n",
    "menu3 := Menu( \"Clear\", Callback(ClearGraph));\n",
    "\n",
    "Add(canvas, [graph, menu1, menu2, menu3]);\n",
    "\n",
    "Draw(canvas);"
   ]
  },
  {
   "cell_type": "markdown",
   "metadata": {},
   "source": [
    "### An attempt to LatticeSubgroups By Markus"
   ]
  },
  {
   "cell_type": "code",
   "execution_count": 22,
   "metadata": {},
   "outputs": [
    {
     "data": {
      "text/plain": [
       "function( L ) ... end"
      ]
     },
     "execution_count": 19,
     "metadata": {},
     "output_type": "execute_result"
    },
    {
     "data": {
      "text/plain": [
       "<IsFrancyObject/IsCanvas>"
      ]
     },
     "execution_count": 20,
     "metadata": {},
     "output_type": "execute_result"
    },
    {
     "data": {
      "application/vnd.francy+json": "{\"version\" : \"0.5.0\",\"mime\" : \"application\\/vnd.francy+json\",\"canvas\" : {\"width\" : 800,\"height\" : 600,\"id\" : \"F16\",\"title\" : \"Lattice Subgroups\",\"zoomToFit\" : true,\"menus\" : {},\"graph\" : {\"type\" : \"hasse\",\"id\" : \"F17\",\"simulation\" : true,\"collapsed\" : true,\"drag\" : false,\"showNeighbours\" : false,\"nodes\" : {\"F18\" : {\"x\" : 0,\"y\" : 0,\"type\" : \"circle\",\"size\" : 10,\"id\" : \"F18\",\"title\" : \"1\",\"layer\" : 1,\"highlight\" : true,\"parent\" : \"\",\"menus\" : {},\"messages\" : {},\"callbacks\" : {}},\"F19\" : {\"x\" : 0,\"y\" : 0,\"type\" : \"diamond\",\"size\" : 10,\"id\" : \"F19\",\"title\" : \"2\",\"layer\" : 2,\"highlight\" : true,\"parent\" : \"\",\"menus\" : {},\"messages\" : {},\"callbacks\" : {}},\"F20\" : {\"x\" : 0,\"y\" : 0,\"type\" : \"diamond\",\"size\" : 10,\"id\" : \"F20\",\"title\" : \"2\",\"layer\" : 2,\"highlight\" : true,\"parent\" : \"\",\"menus\" : {},\"messages\" : {},\"callbacks\" : {}},\"F21\" : {\"x\" : 0,\"y\" : 0,\"type\" : \"diamond\",\"size\" : 10,\"id\" : \"F21\",\"title\" : \"2\",\"layer\" : 2,\"highlight\" : true,\"parent\" : \"\",\"menus\" : {},\"messages\" : {},\"callbacks\" : {}},\"F22\" : {\"x\" : 0,\"y\" : 0,\"type\" : \"diamond\",\"size\" : 10,\"id\" : \"F22\",\"title\" : \"3\",\"layer\" : 2,\"highlight\" : true,\"parent\" : \"\",\"menus\" : {},\"messages\" : {},\"callbacks\" : {}},\"F23\" : {\"x\" : 0,\"y\" : 0,\"type\" : \"diamond\",\"size\" : 10,\"id\" : \"F23\",\"title\" : \"3\",\"layer\" : 2,\"highlight\" : true,\"parent\" : \"\",\"menus\" : {},\"messages\" : {},\"callbacks\" : {}},\"F24\" : {\"x\" : 0,\"y\" : 0,\"type\" : \"diamond\",\"size\" : 10,\"id\" : \"F24\",\"title\" : \"3\",\"layer\" : 2,\"highlight\" : true,\"parent\" : \"\",\"menus\" : {},\"messages\" : {},\"callbacks\" : {}},\"F25\" : {\"x\" : 0,\"y\" : 0,\"type\" : \"diamond\",\"size\" : 10,\"id\" : \"F25\",\"title\" : \"3\",\"layer\" : 2,\"highlight\" : true,\"parent\" : \"\",\"menus\" : {},\"messages\" : {},\"callbacks\" : {}},\"F26\" : {\"x\" : 0,\"y\" : 0,\"type\" : \"diamond\",\"size\" : 10,\"id\" : \"F26\",\"title\" : \"3\",\"layer\" : 2,\"highlight\" : true,\"parent\" : \"\",\"menus\" : {},\"messages\" : {},\"callbacks\" : {}},\"F27\" : {\"x\" : 0,\"y\" : 0,\"type\" : \"diamond\",\"size\" : 10,\"id\" : \"F27\",\"title\" : \"3\",\"layer\" : 2,\"highlight\" : true,\"parent\" : \"\",\"menus\" : {},\"messages\" : {},\"callbacks\" : {}},\"F28\" : {\"x\" : 0,\"y\" : 0,\"type\" : \"diamond\",\"size\" : 10,\"id\" : \"F28\",\"title\" : \"4\",\"layer\" : 3,\"highlight\" : true,\"parent\" : \"\",\"menus\" : {},\"messages\" : {},\"callbacks\" : {}},\"F29\" : {\"x\" : 0,\"y\" : 0,\"type\" : \"diamond\",\"size\" : 10,\"id\" : \"F29\",\"title\" : \"4\",\"layer\" : 3,\"highlight\" : true,\"parent\" : \"\",\"menus\" : {},\"messages\" : {},\"callbacks\" : {}},\"F30\" : {\"x\" : 0,\"y\" : 0,\"type\" : \"diamond\",\"size\" : 10,\"id\" : \"F30\",\"title\" : \"4\",\"layer\" : 3,\"highlight\" : true,\"parent\" : \"\",\"menus\" : {},\"messages\" : {},\"callbacks\" : {}},\"F31\" : {\"x\" : 0,\"y\" : 0,\"type\" : \"diamond\",\"size\" : 10,\"id\" : \"F31\",\"title\" : \"4\",\"layer\" : 3,\"highlight\" : true,\"parent\" : \"\",\"menus\" : {},\"messages\" : {},\"callbacks\" : {}},\"F32\" : {\"x\" : 0,\"y\" : 0,\"type\" : \"circle\",\"size\" : 10,\"id\" : \"F32\",\"title\" : \"5\",\"layer\" : 4,\"highlight\" : true,\"parent\" : \"\",\"menus\" : {},\"messages\" : {},\"callbacks\" : {}},\"F33\" : {\"x\" : 0,\"y\" : 0,\"type\" : \"diamond\",\"size\" : 10,\"id\" : \"F33\",\"title\" : \"6\",\"layer\" : 4,\"highlight\" : true,\"parent\" : \"\",\"menus\" : {},\"messages\" : {},\"callbacks\" : {}},\"F34\" : {\"x\" : 0,\"y\" : 0,\"type\" : \"diamond\",\"size\" : 10,\"id\" : \"F34\",\"title\" : \"6\",\"layer\" : 4,\"highlight\" : true,\"parent\" : \"\",\"menus\" : {},\"messages\" : {},\"callbacks\" : {}},\"F35\" : {\"x\" : 0,\"y\" : 0,\"type\" : \"diamond\",\"size\" : 10,\"id\" : \"F35\",\"title\" : \"6\",\"layer\" : 4,\"highlight\" : true,\"parent\" : \"\",\"menus\" : {},\"messages\" : {},\"callbacks\" : {}},\"F36\" : {\"x\" : 0,\"y\" : 0,\"type\" : \"diamond\",\"size\" : 10,\"id\" : \"F36\",\"title\" : \"7\",\"layer\" : 4,\"highlight\" : true,\"parent\" : \"\",\"menus\" : {},\"messages\" : {},\"callbacks\" : {}},\"F37\" : {\"x\" : 0,\"y\" : 0,\"type\" : \"diamond\",\"size\" : 10,\"id\" : \"F37\",\"title\" : \"7\",\"layer\" : 4,\"highlight\" : true,\"parent\" : \"\",\"menus\" : {},\"messages\" : {},\"callbacks\" : {}},\"F38\" : {\"x\" : 0,\"y\" : 0,\"type\" : \"diamond\",\"size\" : 10,\"id\" : \"F38\",\"title\" : \"7\",\"layer\" : 4,\"highlight\" : true,\"parent\" : \"\",\"menus\" : {},\"messages\" : {},\"callbacks\" : {}},\"F39\" : {\"x\" : 0,\"y\" : 0,\"type\" : \"diamond\",\"size\" : 10,\"id\" : \"F39\",\"title\" : \"8\",\"layer\" : 6,\"highlight\" : true,\"parent\" : \"\",\"menus\" : {},\"messages\" : {},\"callbacks\" : {}},\"F40\" : {\"x\" : 0,\"y\" : 0,\"type\" : \"diamond\",\"size\" : 10,\"id\" : \"F40\",\"title\" : \"8\",\"layer\" : 6,\"highlight\" : true,\"parent\" : \"\",\"menus\" : {},\"messages\" : {},\"callbacks\" : {}},\"F41\" : {\"x\" : 0,\"y\" : 0,\"type\" : \"diamond\",\"size\" : 10,\"id\" : \"F41\",\"title\" : \"8\",\"layer\" : 6,\"highlight\" : true,\"parent\" : \"\",\"menus\" : {},\"messages\" : {},\"callbacks\" : {}},\"F42\" : {\"x\" : 0,\"y\" : 0,\"type\" : \"diamond\",\"size\" : 10,\"id\" : \"F42\",\"title\" : \"8\",\"layer\" : 6,\"highlight\" : true,\"parent\" : \"\",\"menus\" : {},\"messages\" : {},\"callbacks\" : {}},\"F43\" : {\"x\" : 0,\"y\" : 0,\"type\" : \"diamond\",\"size\" : 10,\"id\" : \"F43\",\"title\" : \"9\",\"layer\" : 8,\"highlight\" : true,\"parent\" : \"\",\"menus\" : {},\"messages\" : {},\"callbacks\" : {}},\"F44\" : {\"x\" : 0,\"y\" : 0,\"type\" : \"diamond\",\"size\" : 10,\"id\" : \"F44\",\"title\" : \"9\",\"layer\" : 8,\"highlight\" : true,\"parent\" : \"\",\"menus\" : {},\"messages\" : {},\"callbacks\" : {}},\"F45\" : {\"x\" : 0,\"y\" : 0,\"type\" : \"diamond\",\"size\" : 10,\"id\" : \"F45\",\"title\" : \"9\",\"layer\" : 8,\"highlight\" : true,\"parent\" : \"\",\"menus\" : {},\"messages\" : {},\"callbacks\" : {}},\"F46\" : {\"x\" : 0,\"y\" : 0,\"type\" : \"circle\",\"size\" : 10,\"id\" : \"F46\",\"title\" : \"10\",\"layer\" : 12,\"highlight\" : true,\"parent\" : \"\",\"menus\" : {},\"messages\" : {},\"callbacks\" : {}},\"F47\" : {\"x\" : 0,\"y\" : 0,\"type\" : \"circle\",\"size\" : 10,\"id\" : \"F47\",\"title\" : \"11\",\"layer\" : 24,\"highlight\" : true,\"parent\" : \"\",\"menus\" : {},\"messages\" : {},\"callbacks\" : {}}},\"links\" : {\"F48\" : {\"source\" : \"F19\",\"id\" : \"F48\",\"target\" : \"F18\"},\"F49\" : {\"source\" : \"F20\",\"id\" : \"F49\",\"target\" : \"F18\"},\"F50\" : {\"source\" : \"F21\",\"id\" : \"F50\",\"target\" : \"F18\"},\"F51\" : {\"source\" : \"F22\",\"id\" : \"F51\",\"target\" : \"F18\"},\"F52\" : {\"source\" : \"F23\",\"id\" : \"F52\",\"target\" : \"F18\"},\"F53\" : {\"source\" : \"F24\",\"id\" : \"F53\",\"target\" : \"F18\"},\"F54\" : {\"source\" : \"F25\",\"id\" : \"F54\",\"target\" : \"F18\"},\"F55\" : {\"source\" : \"F26\",\"id\" : \"F55\",\"target\" : \"F18\"},\"F56\" : {\"source\" : \"F27\",\"id\" : \"F56\",\"target\" : \"F18\"},\"F57\" : {\"source\" : \"F28\",\"id\" : \"F57\",\"target\" : \"F18\"},\"F58\" : {\"source\" : \"F29\",\"id\" : \"F58\",\"target\" : \"F18\"},\"F59\" : {\"source\" : \"F30\",\"id\" : \"F59\",\"target\" : \"F18\"},\"F60\" : {\"source\" : \"F31\",\"id\" : \"F60\",\"target\" : \"F18\"},\"F61\" : {\"source\" : \"F32\",\"id\" : \"F61\",\"target\" : \"F19\"},\"F62\" : {\"source\" : \"F32\",\"id\" : \"F62\",\"target\" : \"F20\"},\"F63\" : {\"source\" : \"F32\",\"id\" : \"F63\",\"target\" : \"F21\"},\"F64\" : {\"source\" : \"F33\",\"id\" : \"F64\",\"target\" : \"F22\"},\"F65\" : {\"source\" : \"F34\",\"id\" : \"F65\",\"target\" : \"F23\"},\"F66\" : {\"source\" : \"F35\",\"id\" : \"F66\",\"target\" : \"F24\"},\"F67\" : {\"source\" : \"F33\",\"id\" : \"F67\",\"target\" : \"F27\"},\"F68\" : {\"source\" : \"F34\",\"id\" : \"F68\",\"target\" : \"F26\"},\"F69\" : {\"source\" : \"F35\",\"id\" : \"F69\",\"target\" : \"F25\"},\"F70\" : {\"source\" : \"F33\",\"id\" : \"F70\",\"target\" : \"F21\"},\"F71\" : {\"source\" : \"F34\",\"id\" : \"F71\",\"target\" : \"F19\"},\"F72\" : {\"source\" : \"F35\",\"id\" : \"F72\",\"target\" : \"F20\"},\"F73\" : {\"source\" : \"F36\",\"id\" : \"F73\",\"target\" : \"F21\"},\"F74\" : {\"source\" : \"F37\",\"id\" : \"F74\",\"target\" : \"F19\"},\"F75\" : {\"source\" : \"F38\",\"id\" : \"F75\",\"target\" : \"F20\"},\"F76\" : {\"source\" : \"F39\",\"id\" : \"F76\",\"target\" : \"F28\"},\"F77\" : {\"source\" : \"F40\",\"id\" : \"F77\",\"target\" : \"F29\"},\"F78\" : {\"source\" : \"F41\",\"id\" : \"F78\",\"target\" : \"F30\"},\"F79\" : {\"source\" : \"F42\",\"id\" : \"F79\",\"target\" : \"F31\"},\"F80\" : {\"source\" : \"F39\",\"id\" : \"F80\",\"target\" : \"F22\"},\"F81\" : {\"source\" : \"F40\",\"id\" : \"F81\",\"target\" : \"F26\"},\"F82\" : {\"source\" : \"F41\",\"id\" : \"F82\",\"target\" : \"F26\"},\"F83\" : {\"source\" : \"F42\",\"id\" : \"F83\",\"target\" : \"F25\"},\"F84\" : {\"source\" : \"F39\",\"id\" : \"F84\",\"target\" : \"F23\"},\"F85\" : {\"source\" : \"F40\",\"id\" : \"F85\",\"target\" : \"F27\"},\"F86\" : {\"source\" : \"F41\",\"id\" : \"F86\",\"target\" : \"F25\"},\"F87\" : {\"source\" : \"F42\",\"id\" : \"F87\",\"target\" : \"F27\"},\"F88\" : {\"source\" : \"F39\",\"id\" : \"F88\",\"target\" : \"F24\"},\"F89\" : {\"source\" : \"F40\",\"id\" : \"F89\",\"target\" : \"F24\"},\"F90\" : {\"source\" : \"F41\",\"id\" : \"F90\",\"target\" : \"F22\"},\"F91\" : {\"source\" : \"F42\",\"id\" : \"F91\",\"target\" : \"F23\"},\"F92\" : {\"source\" : \"F43\",\"id\" : \"F92\",\"target\" : \"F36\"},\"F93\" : {\"source\" : \"F44\",\"id\" : \"F93\",\"target\" : \"F37\"},\"F94\" : {\"source\" : \"F45\",\"id\" : \"F94\",\"target\" : \"F38\"},\"F95\" : {\"source\" : \"F43\",\"id\" : \"F95\",\"target\" : \"F33\"},\"F96\" : {\"source\" : \"F44\",\"id\" : \"F96\",\"target\" : \"F34\"},\"F97\" : {\"source\" : \"F45\",\"id\" : \"F97\",\"target\" : \"F35\"},\"F98\" : {\"source\" : \"F43\",\"id\" : \"F98\",\"target\" : \"F32\"},\"F99\" : {\"source\" : \"F44\",\"id\" : \"F99\",\"target\" : \"F32\"},\"F100\" : {\"source\" : \"F45\",\"id\" : \"F100\",\"target\" : \"F32\"},\"F101\" : {\"source\" : \"F46\",\"id\" : \"F101\",\"target\" : \"F32\"},\"F102\" : {\"source\" : \"F46\",\"id\" : \"F102\",\"target\" : \"F28\"},\"F103\" : {\"source\" : \"F46\",\"id\" : \"F103\",\"target\" : \"F29\"},\"F104\" : {\"source\" : \"F46\",\"id\" : \"F104\",\"target\" : \"F30\"},\"F105\" : {\"source\" : \"F46\",\"id\" : \"F105\",\"target\" : \"F31\"},\"F106\" : {\"source\" : \"F47\",\"id\" : \"F106\",\"target\" : \"F46\"},\"F107\" : {\"source\" : \"F47\",\"id\" : \"F107\",\"target\" : \"F43\"},\"F108\" : {\"source\" : \"F47\",\"id\" : \"F108\",\"target\" : \"F44\"},\"F109\" : {\"source\" : \"F47\",\"id\" : \"F109\",\"target\" : \"F45\"},\"F110\" : {\"source\" : \"F47\",\"id\" : \"F110\",\"target\" : \"F39\"},\"F111\" : {\"source\" : \"F47\",\"id\" : \"F111\",\"target\" : \"F40\"},\"F112\" : {\"source\" : \"F47\",\"id\" : \"F112\",\"target\" : \"F41\"},\"F113\" : {\"source\" : \"F47\",\"id\" : \"F113\",\"target\" : \"F42\"}}},\"messages\" : {}}}"
     },
     "execution_count": 22,
     "metadata": {},
     "output_type": "execute_result"
    }
   ],
   "source": [
    "DisplayLatticeSubgroups := function(L)\n",
    "    local cls, len, sz, max, rep, z, t, i, j, k, graphHasse, nodes;\n",
    "    cls:=ConjugacyClassesSubgroups(L);\n",
    "    len:=[];\n",
    "    sz:=[];\n",
    "    for i in cls do\n",
    "        Add(len,Size(i));\n",
    "        AddSet(sz,Size(Representative(i)));\n",
    "    od;\n",
    "\n",
    "    graphHasse := Graph(GraphType.HASSE);\n",
    "\n",
    "    nodes := [];\n",
    "    # subgroup nodes, also acccording to size\n",
    "    for i in [1..Length(cls)] do\n",
    "        nodes[i] := [];\n",
    "        for j in [1..len[i]] do\n",
    "            if len[i]=1 then\n",
    "                nodes[i][j] := Shape(ShapeType.CIRCLE, String(i));\n",
    "                SetLayer(nodes[i][j], Size(Representative(cls[i])));\n",
    "                # AppendTo(file,\"\\\"\",i,\"x\",j,\"\\\" [label=\\\"\",i,\"\\\", shape=box];\\n\");\n",
    "            else\n",
    "                nodes[i][j] := Shape(ShapeType.DIAMOND, String(i));\n",
    "                SetLayer(nodes[i][j], Size(Representative(cls[i])));\n",
    "                # AppendTo(file,\"\\\"\",i,\"x\",j,\"\\\" [label=\\\"\",i,\"-\",j,\"\\\", shape=circle];\\n\");\n",
    "            fi;\n",
    "            Add(graphHasse, nodes[i][j]);\n",
    "        od;\n",
    "    od;\n",
    "\n",
    "    max:=MaximalSubgroupsLattice(L);\n",
    "    for i in [1..Length(cls)] do\n",
    "        for j in max[i] do\n",
    "            rep:=ClassElementLattice(cls[i],1);\n",
    "            for k in [1..len[i]] do\n",
    "                if k=1 then\n",
    "                    z:=j[2];\n",
    "                else\n",
    "                    t:=cls[i]!.normalizerTransversal[k];\n",
    "                    z:=ClassElementLattice(cls[j[1]],1); # force computation of transv.\n",
    "                    z:=cls[j[1]]!.normalizerTransversal[j[2]]*t;\n",
    "                    z:=PositionCanonical(cls[j[1]]!.normalizerTransversal,z);\n",
    "                fi;\n",
    "                Add(graphHasse, Link(nodes[i][k],nodes[j[1]][z]));\n",
    "          od;\n",
    "        od;\n",
    "      od;\n",
    "    return graphHasse;\n",
    "end;\n",
    "\n",
    "canvas3 := Canvas(\"Lattice Subgroups\");;\n",
    "Add(canvas3, DisplayLatticeSubgroups(LatticeSubgroups(SymmetricGroup(4))));\n",
    "Draw(canvas3);"
   ]
  }
 ],
 "metadata": {
  "kernelspec": {
   "display_name": "GAP 4 (native)",
   "language": "gap",
   "name": "gap-native"
  },
  "language_info": {
   "codemirror_mode": "gap",
   "file_extension": ".g",
   "mimetype": "text/x-gap",
   "name": "GAP (native)",
   "nbconvert_exporter": "",
   "pygments_lexer": "gap",
   "version": "4.dev"
  }
 },
 "nbformat": 4,
 "nbformat_minor": 2
}
